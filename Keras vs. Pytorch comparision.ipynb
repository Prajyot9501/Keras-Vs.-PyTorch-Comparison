{
  "cells": [
    {
      "cell_type": "markdown",
      "id": "f2a73e3c-5f75-4710-a3bb-d02dbe0056b2",
      "metadata": {
        "id": "f2a73e3c-5f75-4710-a3bb-d02dbe0056b2"
      },
      "source": [
        "# MNIST handwritten digit image recognition"
      ]
    },
    {
      "cell_type": "code",
      "execution_count": null,
      "id": "bb909549-34d2-45cc-ae1c-4122092fe410",
      "metadata": {
        "id": "bb909549-34d2-45cc-ae1c-4122092fe410",
        "outputId": "c97fb6b1-bb69-4e39-de27-519f05184b05",
        "colab": {
          "base_uri": "https://localhost:8080/"
        }
      },
      "outputs": [
        {
          "output_type": "stream",
          "name": "stdout",
          "text": [
            "Training data shape:  (60000, 28, 28)\n",
            "Test data shape (10000, 28, 28)\n"
          ]
        }
      ],
      "source": [
        "import matplotlib as mpl\n",
        "import matplotlib.pyplot as plt\n",
        "import keras\n",
        "from keras.datasets import mnist\n",
        "\n",
        "\n",
        "(x_train, y_train), (x_test, y_test) = mnist.load_data()\n",
        "print(\"Training data shape: \", x_train.shape) # (60000, 28, 28) -- 60000 images, each 28x28 pixels\n",
        "print(\"Test data shape\", x_test.shape) # (10000, 28, 28) -- 10000 images, each 28x28"
      ]
    },
    {
      "cell_type": "code",
      "execution_count": null,
      "id": "51025f55-9d45-426e-b7ad-921a66525363",
      "metadata": {
        "id": "51025f55-9d45-426e-b7ad-921a66525363",
        "outputId": "57c37c3f-c60a-4831-ee90-93a708e61029",
        "colab": {
          "base_uri": "https://localhost:8080/",
          "height": 244
        }
      },
      "outputs": [
        {
          "output_type": "display_data",
          "data": {
            "text/plain": [
              "<Figure size 640x480 with 5 Axes>"
            ],
            "image/png": "[encoded data removed]"
          },
          "metadata": {}
        },
        {
          "output_type": "stream",
          "name": "stdout",
          "text": [
            "First 5 training labels:  [5 0 4 1 9]\n",
            "First 5 training lables as one-hot encoded vectors:\n",
            " [[0. 0. 0. 0. 0. 1. 0. 0. 0. 0.]\n",
            " [1. 0. 0. 0. 0. 0. 0. 0. 0. 0.]\n",
            " [0. 0. 0. 0. 1. 0. 0. 0. 0. 0.]\n",
            " [0. 1. 0. 0. 0. 0. 0. 0. 0. 0.]\n",
            " [0. 0. 0. 0. 0. 0. 0. 0. 0. 1.]]\n"
          ]
        }
      ],
      "source": [
        "fig, ax=plt.subplots(1,5)\n",
        "for ii in range(5):\n",
        "    some_digit_image = x_train[ii:ii+1].reshape(28,28)\n",
        "    plt.sca(ax[ii])\n",
        "    plt.imshow(some_digit_image, cmap=mpl.cm.binary, interpolation='nearest')\n",
        "    plt.axis(\"off\")\n",
        "plt.show()\n",
        "\n",
        "print(\"First 5 training labels: \", y_train[:5]) # [5, 0, 4, 1, 9]\n",
        "\n",
        "# Convert to \"one-hot\" vectors using the to_categorical function\n",
        "num_classes = 10\n",
        "y_train = keras.utils.to_categorical(y_train, num_classes)\n",
        "y_test = keras.utils.to_categorical(y_test, num_classes)\n",
        "print(\"First 5 training lables as one-hot encoded vectors:\\n\", y_train[:5])"
      ]
    },
    {
      "cell_type": "code",
      "execution_count": null,
      "id": "65832db1-a9dc-4a43-84b2-a82187439bdc",
      "metadata": {
        "id": "65832db1-a9dc-4a43-84b2-a82187439bdc",
        "outputId": "08638ca5-f063-4582-aa51-d7e3a4fd8c45",
        "colab": {
          "base_uri": "https://localhost:8080/"
        }
      },
      "outputs": [
        {
          "output_type": "stream",
          "name": "stdout",
          "text": [
            "Reshaped training data:  (60000, 784)\n"
          ]
        }
      ],
      "source": [
        "# Flatten the images for use in a dense neural net\n",
        "image_vector_size = 28*28\n",
        "x_train = x_train.reshape(x_train.shape[0], image_vector_size)\n",
        "x_test = x_test.reshape(x_test.shape[0], image_vector_size)\n",
        "print(\"Reshaped training data: \", x_train.shape)"
      ]
    },
    {
      "cell_type": "markdown",
      "id": "22db53c2-90dd-4439-8c00-3f024239382a",
      "metadata": {
        "id": "22db53c2-90dd-4439-8c00-3f024239382a"
      },
      "source": [
        "# Create and Train network using Tensorflow/Keras"
      ]
    },
    {
      "cell_type": "code",
      "execution_count": null,
      "id": "41fe3d9a-9ce8-4528-9f53-f623c084fbd9",
      "metadata": {
        "id": "41fe3d9a-9ce8-4528-9f53-f623c084fbd9",
        "outputId": "b91c16db-c8d7-49eb-af53-03e40883f3c8",
        "colab": {
          "base_uri": "https://localhost:8080/"
        }
      },
      "outputs": [
        {
          "output_type": "stream",
          "name": "stdout",
          "text": [
            "Model: \"sequential_22\"\n",
            "_________________________________________________________________\n",
            " Layer (type)                Output Shape              Param #   \n",
            "=================================================================\n",
            " dense_98 (Dense)            (None, 16)                12560     \n",
            "                                                                 \n",
            " dense_99 (Dense)            (None, 10)                170       \n",
            "                                                                 \n",
            "=================================================================\n",
            "Total params: 12730 (49.73 KB)\n",
            "Trainable params: 12730 (49.73 KB)\n",
            "Non-trainable params: 0 (0.00 Byte)\n",
            "_________________________________________________________________\n"
          ]
        }
      ],
      "source": [
        "import keras.layers as layers\n",
        "from keras.layers import Dense # Dense layers are \"fully connected\" layers\n",
        "from keras.models import Sequential # Documentation: https://keras.io/models/sequential/\n",
        "\n",
        "model = Sequential()\n",
        "\n",
        "# The input layer requires the special input_shape parameter which should match\n",
        "# the shape of our training data.\n",
        "model.add(Dense(units=16, activation='sigmoid', input_shape=(image_vector_size,)))\n",
        "model.add(Dense(units=num_classes, activation='softmax'))\n",
        "model.summary()"
      ]
    },
    {
      "cell_type": "code",
      "execution_count": null,
      "id": "67e0cd2f-0524-49dd-923a-a296932b86ca",
      "metadata": {
        "id": "67e0cd2f-0524-49dd-923a-a296932b86ca",
        "outputId": "b684ff35-0d25-498f-a490-2d7b2d4b082e",
        "colab": {
          "base_uri": "https://localhost:8080/"
        }
      },
      "outputs": [
        {
          "output_type": "stream",
          "name": "stdout",
          "text": [
            "Model: \"model_21\"\n",
            "_________________________________________________________________\n",
            " Layer (type)                Output Shape              Param #   \n",
            "=================================================================\n",
            " img (InputLayer)            [(None, 784)]             0         \n",
            "                                                                 \n",
            " dense_100 (Dense)           (None, 16)                12544     \n",
            "                                                                 \n",
            " dense_101 (Dense)           (None, 10)                170       \n",
            "                                                                 \n",
            "=================================================================\n",
            "Total params: 12714 (49.66 KB)\n",
            "Trainable params: 12714 (49.66 KB)\n",
            "Non-trainable params: 0 (0.00 Byte)\n",
            "_________________________________________________________________\n"
          ]
        }
      ],
      "source": [
        "inputs = keras.Input(shape=(image_vector_size,), name=\"img\")\n",
        "x = layers.Dense(units=16, activation='relu',use_bias=False)(inputs)\n",
        "outputs = layers.Dense(units=num_classes, activation='softmax')(x)\n",
        "model_alternate = keras.Model(inputs=inputs, outputs=outputs)\n",
        "model_alternate.summary()"
      ]
    },
    {
      "cell_type": "code",
      "execution_count": null,
      "id": "6e59be5d-f02b-4d65-927f-748e31e9795c",
      "metadata": {
        "id": "6e59be5d-f02b-4d65-927f-748e31e9795c",
        "outputId": "780344f9-a0ca-4287-f066-44fa17822ea2",
        "colab": {
          "base_uri": "https://localhost:8080/",
          "height": 680
        }
      },
      "outputs": [
        {
          "output_type": "stream",
          "name": "stdout",
          "text": [
            "Epoch 1/5\n",
            "422/422 [==============================] - 2s 4ms/step - loss: 1.4826 - accuracy: 0.6312 - val_loss: 0.9415 - val_accuracy: 0.8178\n",
            "Epoch 2/5\n",
            "422/422 [==============================] - 1s 3ms/step - loss: 0.8142 - accuracy: 0.8209 - val_loss: 0.6073 - val_accuracy: 0.8748\n",
            "Epoch 3/5\n",
            "422/422 [==============================] - 1s 3ms/step - loss: 0.6119 - accuracy: 0.8491 - val_loss: 0.4781 - val_accuracy: 0.8847\n",
            "Epoch 4/5\n",
            "422/422 [==============================] - 2s 4ms/step - loss: 0.5194 - accuracy: 0.8612 - val_loss: 0.4207 - val_accuracy: 0.8913\n",
            "Epoch 5/5\n",
            "422/422 [==============================] - 2s 4ms/step - loss: 0.4678 - accuracy: 0.8696 - val_loss: 0.3830 - val_accuracy: 0.8988\n"
          ]
        },
        {
          "output_type": "display_data",
          "data": {
            "text/plain": [
              "<Figure size 640x480 with 1 Axes>"
            ],
            "image/png": "[encoded data removed]"
          },
          "metadata": {}
        },
        {
          "output_type": "stream",
          "name": "stdout",
          "text": [
            "Test loss: 0.442\n",
            "Test accuracy: 0.877\n"
          ]
        }
      ],
      "source": [
        "model.compile(optimizer='adam', loss='categorical_crossentropy', metrics=['accuracy'])\n",
        "history = model.fit(x_train, y_train, batch_size=128, epochs=5, verbose=True, validation_split=.1)\n",
        "loss, accuracy  = model.evaluate(x_test, y_test, verbose=False)\n",
        "\n",
        "plt.plot(history.history['accuracy'])\n",
        "plt.plot(history.history['val_accuracy'])\n",
        "plt.title('model accuracy')\n",
        "plt.ylabel('accuracy')\n",
        "plt.xlabel('epoch')\n",
        "plt.legend(['training', 'validation'], loc='best')\n",
        "plt.show()\n",
        "\n",
        "print(f'Test loss: {loss:.3}')\n",
        "print(f'Test accuracy: {accuracy:.3}')"
      ]
    },
    {
      "cell_type": "markdown",
      "id": "96e1c4b9-2776-4a0d-b01d-74d40b4d7409",
      "metadata": {
        "id": "96e1c4b9-2776-4a0d-b01d-74d40b4d7409"
      },
      "source": [
        "# Assignment 1: Create and Train same network using PyTorch\n",
        "Recreate the above results from Tensorflow but now use PyTorch\n"
      ]
    },
    {
      "cell_type": "code",
      "source": [
        "#importing necessary libraries\n",
        "\n",
        "import torch as t\n",
        "import torchvision.datasets as datasets\n",
        "import torchvision.transforms as transforms\n",
        "import torch.nn as nn\n",
        "import matplotlib.pyplot as plt"
      ],
      "metadata": {
        "id": "ke04AxJRayAd"
      },
      "id": "ke04AxJRayAd",
      "execution_count": 1,
      "outputs": []
    },
    {
      "cell_type": "code",
      "source": [
        "#importing the dataset and transforming them for the use\n",
        "\n",
        "transform = transforms.Compose([transforms.ToTensor(), transforms.Normalize((0.5,), (0.5,)),])\n",
        "\n",
        "mnist_trainset = datasets.MNIST(root='./data', train=True, download=True, transform=transform)\n",
        "train_loader = t.utils.data.DataLoader(mnist_trainset, batch_size=10, shuffle=True)\n",
        "\n",
        "mnist_testset = datasets.MNIST(root='./data', train=False, download=True, transform=transform)\n",
        "test_loader = t.utils.data.DataLoader(mnist_testset, batch_size=10, shuffle=True)"
      ],
      "metadata": {
        "id": "PfQknYr2bodv",
        "colab": {
          "base_uri": "https://localhost:8080/"
        },
        "outputId": "cdd5ccb6-69e2-4785-8abb-cf8f7132b5c9"
      },
      "id": "PfQknYr2bodv",
      "execution_count": 2,
      "outputs": [
        {
          "output_type": "stream",
          "name": "stdout",
          "text": [
            "Downloading http://yann.lecun.com/exdb/mnist/train-images-idx3-ubyte.gz\n",
            "Downloading http://yann.lecun.com/exdb/mnist/train-images-idx3-ubyte.gz to ./data/MNIST/raw/train-images-idx3-ubyte.gz\n"
          ]
        },
        {
          "output_type": "stream",
          "name": "stderr",
          "text": [
            "100%|██████████| 9912422/9912422 [00:00<00:00, 246468060.45it/s]"
          ]
        },
        {
          "output_type": "stream",
          "name": "stdout",
          "text": [
            "Extracting ./data/MNIST/raw/train-images-idx3-ubyte.gz to ./data/MNIST/raw\n"
          ]
        },
        {
          "output_type": "stream",
          "name": "stderr",
          "text": [
            "\n"
          ]
        },
        {
          "output_type": "stream",
          "name": "stdout",
          "text": [
            "\n",
            "Downloading http://yann.lecun.com/exdb/mnist/train-labels-idx1-ubyte.gz\n",
            "Downloading http://yann.lecun.com/exdb/mnist/train-labels-idx1-ubyte.gz to ./data/MNIST/raw/train-labels-idx1-ubyte.gz\n"
          ]
        },
        {
          "output_type": "stream",
          "name": "stderr",
          "text": [
            "100%|██████████| 28881/28881 [00:00<00:00, 66667965.78it/s]\n"
          ]
        },
        {
          "output_type": "stream",
          "name": "stdout",
          "text": [
            "Extracting ./data/MNIST/raw/train-labels-idx1-ubyte.gz to ./data/MNIST/raw\n",
            "\n",
            "Downloading http://yann.lecun.com/exdb/mnist/t10k-images-idx3-ubyte.gz\n",
            "Downloading http://yann.lecun.com/exdb/mnist/t10k-images-idx3-ubyte.gz to ./data/MNIST/raw/t10k-images-idx3-ubyte.gz\n"
          ]
        },
        {
          "output_type": "stream",
          "name": "stderr",
          "text": [
            "100%|██████████| 1648877/1648877 [00:00<00:00, 99009196.67it/s]"
          ]
        },
        {
          "output_type": "stream",
          "name": "stdout",
          "text": [
            "Extracting ./data/MNIST/raw/t10k-images-idx3-ubyte.gz to ./data/MNIST/raw\n"
          ]
        },
        {
          "output_type": "stream",
          "name": "stderr",
          "text": [
            "\n"
          ]
        },
        {
          "output_type": "stream",
          "name": "stdout",
          "text": [
            "\n",
            "Downloading http://yann.lecun.com/exdb/mnist/t10k-labels-idx1-ubyte.gz\n",
            "Downloading http://yann.lecun.com/exdb/mnist/t10k-labels-idx1-ubyte.gz to ./data/MNIST/raw/t10k-labels-idx1-ubyte.gz\n"
          ]
        },
        {
          "output_type": "stream",
          "name": "stderr",
          "text": [
            "100%|██████████| 4542/4542 [00:00<00:00, 14744991.31it/s]"
          ]
        },
        {
          "output_type": "stream",
          "name": "stdout",
          "text": [
            "Extracting ./data/MNIST/raw/t10k-labels-idx1-ubyte.gz to ./data/MNIST/raw\n",
            "\n"
          ]
        },
        {
          "output_type": "stream",
          "name": "stderr",
          "text": [
            "\n"
          ]
        }
      ]
    },
    {
      "cell_type": "code",
      "source": [
        "transform = transforms.Compose([transforms.ToTensor(), transforms.Normalize((0.5,), (0.5,)),])"
      ],
      "metadata": {
        "id": "KpK3XLYEbqlf"
      },
      "id": "KpK3XLYEbqlf",
      "execution_count": 3,
      "outputs": []
    },
    {
      "cell_type": "code",
      "source": [
        "#loading the training and testing dataset\n",
        "\n",
        "mnist_trainset = datasets.MNIST(root='./data', train=True, download=True, transform=transform)\n",
        "train_loader = t.utils.data.DataLoader(mnist_trainset, batch_size=10, shuffle=True)\n",
        "\n",
        "mnist_testset = datasets.MNIST(root='./data', train=False, download=True, transform=transform)\n",
        "test_loader = t.utils.data.DataLoader(mnist_testset, batch_size=10, shuffle=True)"
      ],
      "metadata": {
        "id": "_eoLZqaebuUG"
      },
      "id": "_eoLZqaebuUG",
      "execution_count": 4,
      "outputs": []
    },
    {
      "cell_type": "code",
      "source": [
        "#traing the model\n",
        "\n",
        "class Net(nn.Module):\n",
        "    def __init__(self):\n",
        "        super(Net,self).__init__()\n",
        "        self.linear1 = nn.Linear(28*28, 100)\n",
        "        self.linear2 = nn.Linear(100, 50)\n",
        "        self.final = nn.Linear(50, 10)\n",
        "        self.relu = nn.ReLU()\n",
        "\n",
        "    def forward(self, img): #convert + flatten\n",
        "        x = img.view(-1, 28*28)\n",
        "        x = self.relu(self.linear1(x))\n",
        "        x = self.relu(self.linear2(x))\n",
        "        x = self.final(x)\n",
        "        return x\n",
        "net = Net()"
      ],
      "metadata": {
        "id": "haUaNh32bwSN"
      },
      "id": "haUaNh32bwSN",
      "execution_count": 5,
      "outputs": []
    },
    {
      "cell_type": "code",
      "source": [
        "def forward(self, img): #convert + flatten\n",
        "        x = img.view(-1, 28*28)\n",
        "        x = self.relu(self.linear1(x))\n",
        "        x = self.relu(self.linear2(x))\n",
        "        x = self.final(x)\n",
        "        return x\n",
        "net = Net()"
      ],
      "metadata": {
        "id": "uCswE2KQbyTc"
      },
      "id": "uCswE2KQbyTc",
      "execution_count": 6,
      "outputs": []
    },
    {
      "cell_type": "code",
      "source": [
        "cross_el = nn.CrossEntropyLoss()\n",
        "optimizer = t.optim.Adam(net.parameters(), lr=0.001) #e-1\n",
        "epoch = 10\n",
        "\n",
        "for epoch in range(epoch):\n",
        "    net.train()\n",
        "\n",
        "    for data in train_loader:\n",
        "        x, y = data\n",
        "        optimizer.zero_grad()\n",
        "        output = net(x.view(-1, 28*28))\n",
        "        loss = cross_el(output, y)\n",
        "        loss.backward()\n",
        "        optimizer.step()"
      ],
      "metadata": {
        "id": "Jjwyzuzqb0rN"
      },
      "id": "Jjwyzuzqb0rN",
      "execution_count": 7,
      "outputs": []
    },
    {
      "cell_type": "code",
      "source": [
        "#using 10 epochs fof greater accuracy\n",
        "\n",
        "cross_el = nn.CrossEntropyLoss()\n",
        "optimizer = t.optim.Adam(net.parameters(), lr=0.001) #e-1\n",
        "epoch = 10"
      ],
      "metadata": {
        "id": "buzsrCxvb_gE"
      },
      "id": "buzsrCxvb_gE",
      "execution_count": 8,
      "outputs": []
    },
    {
      "cell_type": "code",
      "source": [
        "#calculating accuracy for each epoch\n",
        "\n",
        "for epoch in range(epoch):\n",
        "    net.train()\n",
        "\n",
        "    for data in train_loader:\n",
        "        x, y = data\n",
        "        optimizer.zero_grad()\n",
        "        output = net(x.view(-1, 28*28))\n",
        "        loss = cross_el(output, y)\n",
        "        loss.backward()\n",
        "        optimizer.step()"
      ],
      "metadata": {
        "id": "mQBtzaZudbfA"
      },
      "id": "mQBtzaZudbfA",
      "execution_count": 9,
      "outputs": []
    },
    {
      "cell_type": "code",
      "source": [
        "#displaying the final accuracy\n",
        "\n",
        "correct = 0\n",
        "total = 0\n",
        "with t.no_grad():\n",
        "    for data in test_loader:\n",
        "        x, y = data\n",
        "        output = net(x.view(-1, 784))\n",
        "        for idx, i in enumerate(output):\n",
        "            if t.argmax(i) == y[idx]:\n",
        "                correct +=1\n",
        "            total +=1\n",
        "print(f'accuracy: {round(correct/total, 3)}')"
      ],
      "metadata": {
        "colab": {
          "base_uri": "https://localhost:8080/"
        },
        "id": "zbhaYqh2detd",
        "outputId": "a053428a-4653-43a4-91c1-b91fbef4fa10"
      },
      "id": "zbhaYqh2detd",
      "execution_count": 10,
      "outputs": [
        {
          "output_type": "stream",
          "name": "stdout",
          "text": [
            "accuracy: 0.967\n"
          ]
        }
      ]
    },
    {
      "cell_type": "markdown",
      "source": [
        "# **The accuracy is 0.967 when the same network is trained using PyTorch**"
      ],
      "metadata": {
        "id": "8OhGITcfXZnF"
      },
      "id": "8OhGITcfXZnF"
    }
  ],
  "metadata": {
    "kernelspec": {
      "display_name": "Python 3 (ipykernel)",
      "language": "python",
      "name": "python3"
    },
    "language_info": {
      "codemirror_mode": {
        "name": "ipython",
        "version": 3
      },
      "file_extension": ".py",
      "mimetype": "text/x-python",
      "name": "python",
      "nbconvert_exporter": "python",
      "pygments_lexer": "ipython3",
      "version": "3.10.6"
    },
    "colab": {
      "provenance": []
    }
  },
  "nbformat": 4,
  "nbformat_minor": 5
}